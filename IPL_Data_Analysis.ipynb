{
 "cells": [
  {
   "cell_type": "code",
   "execution_count": null,
   "metadata": {},
   "outputs": [
    {
     "name": "stdout",
     "output_type": "stream",
     "text": []
    },
    {
     "name": "stdout",
     "output_type": "stream",
     "text": []
    },
    {
     "name": "stdout",
     "output_type": "stream",
     "text": []
    }
   ],
   "source": [
    "# Import libraries\n",
    "%pip install matplotlib\n",
    "import pandas as pd\n",
    "import matplotlib.pyplot as plt\n",
    "import seaborn as sns\n",
    "import streamlit as st\n",
    "\n",
    "%matplotlib inline\n",
    "sns.set(style=\"whitegrid\")\n",
    "\n",
    "# Load the dataset (update the path if necessary)\n",
    "df = pd.read_csv('matches.csv')\n",
    "df.head()\n",
    "\n",
    "# Filter data for a specific year (e.g., 2016)\n",
    "filtered_data = df[df['season'] == 2016]  # Replace 'season' with the actual column name for the year\n",
    "\n",
    "# Display the filtered data\n",
    "print(filtered_data)\n",
    "\n",
    "# Optionally, display the first few rows of the filtered data\n",
    "filtered_data.head()\n",
    "\n",
    "# Display the winning teams for the filtered data\n",
    "winning_teams = filtered_data['winner'].value_counts()  # Replace 'winner' with the actual column name for winning teams\n",
    "print(\"Winning Teams:\")\n",
    "print(winning_teams)\n",
    "\n",
    "# Visualize the winning teams\n",
    "plt.figure(figsize=(10, 6))\n",
    "sns.barplot(x=winning_teams.values, y=winning_teams.index, palette='viridis')\n",
    "plt.title('Winning Teams in 2016', fontsize=16)\n",
    "plt.xlabel('Number of Wins', fontsize=12)\n",
    "plt.ylabel('Teams', fontsize=12)\n",
    "plt.show()\n",
    "\n",
    "# Streamlit app for visualizing winning teams\n",
    "def app():\n",
    "    st.title('IPL Winning Teams Analysis')\n",
    "    st.write('Filter data for a specific year and visualize the winning teams.')\n",
    "\n",
    "    # Load dataset\n",
    "    df = pd.read_csv('matches.csv')\n",
    "\n",
    "    # Filter data for a specific year\n",
    "    year = st.selectbox('Select Year', df['season'].unique())  # Replace 'season' with the actual column name\n",
    "    filtered_data = df[df['season'] == year]\n",
    "\n",
    "    # Display winning teams\n",
    "    winning_teams = filtered_data['winner'].value_counts()  # Replace 'winner' with the actual column name\n",
    "    st.write('Winning Teams:', winning_teams)\n",
    "\n",
    "    # Visualize winning teams\n",
    "    fig, ax = plt.subplots(figsize=(10, 6))\n",
    "    sns.barplot(x=winning_teams.values, y=winning_teams.index, palette='viridis', ax=ax)\n",
    "    ax.set_title(f'Winning Teams in {year}', fontsize=16)\n",
    "    ax.set_xlabel('Number of Wins', fontsize=12)\n",
    "    ax.set_ylabel('Teams', fontsize=12)\n",
    "    st.pyplot(fig)\n",
    "\n",
    "# Run the Streamlit app\n",
    "if __name__ == '__main__':\n",
    "    app()"
   ]
  }
 ],
 "metadata": {
  "kernelspec": {
   "display_name": "venv",
   "language": "python",
   "name": "python3"
  },
  "language_info": {
   "codemirror_mode": {
    "name": "ipython",
    "version": 3
   },
   "file_extension": ".py",
   "mimetype": "text/x-python",
   "name": "python",
   "nbconvert_exporter": "python",
   "pygments_lexer": "ipython3",
   "version": "3.12.9"
  }
 },
 "nbformat": 4,
 "nbformat_minor": 2
}
